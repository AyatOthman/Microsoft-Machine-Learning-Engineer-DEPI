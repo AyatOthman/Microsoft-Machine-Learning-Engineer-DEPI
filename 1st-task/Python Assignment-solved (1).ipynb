{
 "cells": [
  {
   "cell_type": "markdown",
   "metadata": {},
   "source": [
    "#### Task #1: \n",
    "\n",
    "Write a program that calculates the future value of an investment based on compound interest. Assign appropriate values to variables for the principal amount, annual interest rate, number of times interest is compounded per year, and the number of years. Use the compound interest formula to compute the future value and print the result in a well-formatted.\n",
    "\n",
    "#### Compound Interest Formula\n",
    "\n",
    "The formula for compound interest is:\n",
    "\n",
    "$$\n",
    "A = P \\left(1 + \\frac{r}{n}\\right)^{nt}\n",
    "$$\n",
    "\n",
    "Where:\n",
    "\n",
    "- $A$ = the future value of the investment/loan, including interest\n",
    "- $P$ = the principal investment amount (the initial deposit or loan amount)\n",
    "- $r$ = the annual interest rate (in decimal form)\n",
    "- $n$ = the number of times that interest is compounded per year\n",
    "- $t$ = the time the money is invested or borrowed for, in years\n",
    "\n",
    "*Note:* Replace the example values with different ones to test your program with various scenarios."
   ]
  },
  {
   "cell_type": "code",
   "execution_count": 1,
   "metadata": {},
   "outputs": [
    {
     "name": "stdout",
     "output_type": "stream",
     "text": [
      "The future value of the investment is: $1647.01\n"
     ]
    }
   ],
   "source": [
    "def calculate_compound_interest(P, r, n, t):\n",
    "    A = P * (1 + r/n) ** (n*t)\n",
    "    return A\n",
    "\n",
    "# Example values\n",
    "P = 1000  # Principal amount in dollars\n",
    "r = 0.05  # Annual interest rate (5%)\n",
    "n = 12    # Compounded monthly\n",
    "t = 10    # 10 years\n",
    "\n",
    "future_value = calculate_compound_interest(P, r, n, t)\n",
    "print(f\"The future value of the investment is: ${future_value:.2f}\")\n"
   ]
  },
  {
   "cell_type": "markdown",
   "metadata": {},
   "source": [
    "#### Task #2:\n",
    "\n",
    "**Task:** Create a simple program that manages a collection of favorite movies. \n",
    "The program should:\n",
    "\n",
    "1. Initialize a list with a few movie titles.\n",
    "2. Add a new movie to the last of the list.\n",
    "3. Remove a movie from the list by specifying its name.\n",
    "4. Access and print a specific movie from the list.\n",
    "\n",
    "*Instructions:* Use only variables and lists."
   ]
  },
  {
   "cell_type": "code",
   "execution_count": 2,
   "metadata": {},
   "outputs": [
    {
     "name": "stdout",
     "output_type": "stream",
     "text": [
      "Movie at index 1: Interstellar\n",
      "Updated list of favorite movies: ['Inception', 'Interstellar', 'The Dark Knight']\n"
     ]
    }
   ],
   "source": [
    "# Initialize a list with a few movie titles\n",
    "favorite_movies = [\"Inception\", \"The Matrix\", \"Interstellar\"]\n",
    "\n",
    "# Add a new movie to the end of the list\n",
    "new_movie = \"The Dark Knight\"\n",
    "favorite_movies.append(new_movie)\n",
    "\n",
    "# Remove a movie from the list by specifying its name\n",
    "movie_to_remove = \"The Matrix\"\n",
    "if movie_to_remove in favorite_movies:\n",
    "    favorite_movies.remove(movie_to_remove)\n",
    "\n",
    "# Access and print a specific movie from the list\n",
    "movie_index = 1\n",
    "if 0 <= movie_index < len(favorite_movies):\n",
    "    print(f\"Movie at index {movie_index}: {favorite_movies[movie_index]}\")\n",
    "\n",
    "# Print the updated list of favorite movies\n",
    "print(\"Updated list of favorite movies:\", favorite_movies)\n"
   ]
  },
  {
   "cell_type": "markdown",
   "metadata": {},
   "source": [
    "#### Task #3: Advanced Practical Problem: Book Information System\n",
    "\n",
    "Task: Create a program that defines a tuple containing information about\n",
    "a book: title, author, publication year, and genre. Then:\n",
    "\n",
    "1.  Unpack the tuple into individual variables\n",
    "2.  Create a new tuple that adds the publisher’s name to the existing\n",
    "    book information\n",
    "3.  Access and print the book’s title and genre from the tuple\n",
    "4.  Attempt to modify the publication year in the tuple and observe the\n",
    "    result\n",
    "\n",
    "**Note**: Observe how attempting to modify a tuple results in an error,\n",
    "demonstrating the immutable nature of tuples. Use this understanding to\n",
    "decide when to use tuples over lists in your programs."
   ]
  },
  {
   "cell_type": "code",
   "execution_count": 3,
   "metadata": {},
   "outputs": [
    {
     "name": "stdout",
     "output_type": "stream",
     "text": [
      "Title: The Great Gatsby\n",
      "Genre: Novel\n",
      "Error: 'tuple' object does not support item assignment\n",
      "Extended book information: ('The Great Gatsby', 'F. Scott Fitzgerald', 1925, 'Novel', \"Charles Scribner's Sons\")\n"
     ]
    }
   ],
   "source": [
    "# Define a tuple containing information about a book\n",
    "book_info = (\"The Great Gatsby\", \"F. Scott Fitzgerald\", 1925, \"Novel\")\n",
    "\n",
    "# Unpack the tuple into individual variables\n",
    "title, author, publication_year, genre = book_info\n",
    "\n",
    "# Create a new tuple that adds the publisher's name to the existing book information\n",
    "publisher = \"Charles Scribner's Sons\"\n",
    "extended_book_info = book_info + (publisher,)\n",
    "\n",
    "# Access and print the book's title and genre from the tuple\n",
    "print(f\"Title: {title}\")\n",
    "print(f\"Genre: {genre}\")\n",
    "\n",
    "# Attempt to modify the publication year in the tuple (this will cause an error)\n",
    "try:\n",
    "    book_info[2] = 1926\n",
    "except TypeError as e:\n",
    "    print(\"Error:\", e)\n",
    "\n",
    "# Print the extended book information\n",
    "print(\"Extended book information:\", extended_book_info)\n"
   ]
  },
  {
   "cell_type": "markdown",
   "metadata": {},
   "source": [
    "#### Task #4: Student Enrollment System\n",
    "Task: Create a program that identifies the unique elements shared between two lists of student names. The program should:\n",
    "\n",
    "1. Define two lists containing names of students enrolled in two different courses\n",
    "2. Convert the lists to sets to find unique names\n",
    "3. Find the intersection of the two sets to identify students enrolled in both courses\n",
    "4. Print the list of students enrolled in both courses\n",
    "\n",
    "The complete implementation can be found in the accompanying Python file (`sets_examples.py`).\n",
    "\n",
    "**Note**: This program demonstrates how sets can be used to find common elements between collections, effectively identifying duplicates or shared items."
   ]
  },
  {
   "cell_type": "code",
   "execution_count": 4,
   "metadata": {},
   "outputs": [
    {
     "name": "stdout",
     "output_type": "stream",
     "text": [
      "Students enrolled in both courses: {'David', 'Charlie'}\n"
     ]
    }
   ],
   "source": [
    "# Define two lists containing names of students enrolled in two different courses\n",
    "course1_students = [\"Alice\", \"Bob\", \"Charlie\", \"David\"]\n",
    "course2_students = [\"Charlie\", \"David\", \"Edward\", \"Fiona\"]\n",
    "\n",
    "# Convert the lists to sets to find unique names\n",
    "set_course1 = set(course1_students)\n",
    "set_course2 = set(course2_students)\n",
    "\n",
    "# Find the intersection of the two sets to identify students enrolled in both courses\n",
    "common_students = set_course1.intersection(set_course2)\n",
    "\n",
    "# Print the list of students enrolled in both courses\n",
    "print(\"Students enrolled in both courses:\", common_students)\n"
   ]
  },
  {
   "cell_type": "markdown",
   "metadata": {},
   "source": [
    "#### Task #5: Advanced Practical Problem: Contact Management System\n",
    "\n",
    "Task: Build a contact management system using dictionaries. The system should:\n",
    "\n",
    "1. Create an initial dictionary with contacts\n",
    "2. Add a new contact\n",
    "3. Update existing contact information\n",
    "4. Remove a contact\n",
    "5. Access and display contact details"
   ]
  },
  {
   "cell_type": "code",
   "execution_count": 5,
   "metadata": {},
   "outputs": [
    {
     "name": "stdout",
     "output_type": "stream",
     "text": [
      "Contact: John Doe, Phone: 555-4321, Email: john@example.com\n",
      "Contact: Alice Johnson, Phone: 555-8765, Email: alice@example.com\n",
      "Updated contacts: {'John Doe': {'phone': '555-4321', 'email': 'john@example.com'}, 'Alice Johnson': {'phone': '555-8765', 'email': 'alice@example.com'}}\n"
     ]
    }
   ],
   "source": [
    "# Create an initial dictionary with contacts\n",
    "contacts = {\n",
    "    \"John Doe\": {\"phone\": \"555-1234\", \"email\": \"john@example.com\"},\n",
    "    \"Jane Smith\": {\"phone\": \"555-5678\", \"email\": \"jane@example.com\"}\n",
    "}\n",
    "\n",
    "# Add a new contact\n",
    "contacts[\"Alice Johnson\"] = {\"phone\": \"555-8765\", \"email\": \"alice@example.com\"}\n",
    "\n",
    "# Update existing contact information\n",
    "contacts[\"John Doe\"][\"phone\"] = \"555-4321\"\n",
    "\n",
    "# Remove a contact\n",
    "contacts.pop(\"Jane Smith\", None)\n",
    "\n",
    "# Access and display contact details\n",
    "for name, details in contacts.items():\n",
    "    print(f\"Contact: {name}, Phone: {details['phone']}, Email: {details['email']}\")\n",
    "\n",
    "# Print the updated contact list\n",
    "print(\"Updated contacts:\", contacts)\n"
   ]
  }
 ],
 "metadata": {
  "kernelspec": {
   "display_name": "Python 3 (ipykernel)",
   "language": "python",
   "name": "python3"
  },
  "language_info": {
   "codemirror_mode": {
    "name": "ipython",
    "version": 3
   },
   "file_extension": ".py",
   "mimetype": "text/x-python",
   "name": "python",
   "nbconvert_exporter": "python",
   "pygments_lexer": "ipython3",
   "version": "3.13.0"
  }
 },
 "nbformat": 4,
 "nbformat_minor": 4
}
